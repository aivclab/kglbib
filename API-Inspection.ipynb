{
 "cells": [
  {
   "cell_type": "markdown",
   "metadata": {},
   "source": [
    "# OAI-PMH\n",
    "> Open Archives Initiative Protocol for Metadata Harvesting \n",
    "\n",
    "The protocol is specified [here](http://www.openarchives.org/OAI/openarchivesprotocol.html), and applied to the Royal Danish Library as explained [here](https://github.com/Det-Kongelige-Bibliotek/access-digital-objects)."
   ]
  },
  {
   "cell_type": "markdown",
   "metadata": {},
   "source": [
    "## Identify OAI provider"
   ]
  },
  {
   "cell_type": "markdown",
   "metadata": {},
   "source": [
    "Download data and show raw output:"
   ]
  },
  {
   "cell_type": "code",
   "execution_count": 1,
   "metadata": {},
   "outputs": [
    {
     "name": "stdout",
     "output_type": "stream",
     "text": [
      "<?xml version=\"1.0\" encoding=\"UTF-8\" ?><OAI-PMH xmlns=\"http://www.openarchives.org/OAI/2.0/\" xmlns:xsi=\"http://www.w3.org/2001/XMLSchema-instance\" xsi:schemaLocation=\"http://www.openarchives.org/OAI/2.0/ http://www.openarchives.org/OAI/2.0/OAI-PMH.xsd\"><responseDate>2020-04-02T08:35:27Z</responseDate><request verb=\"Identify\">http://www5.kb.dk/cop/oai/</request><Identify><repositoryName>COP2 Repository</repositoryName><baseURL>http://www5.kb.dk/cop/oai/</baseURL><protocolVersion>2.0</protocolVersion><adminEmail>webmaster@kb.dk</adminEmail><earliestDatestamp>2000-01-01</earliestDatestamp><deletedRecord>no</deletedRecord><granularity>YYYY-MM-DD</granularity><compression>gzip</compression><compression>deflate</compression><description><oai-identifier xmlns=\"http://www.openarchives.org/OAI/2.0/oai-identifier\" xmlns:xsi=\"http://www.w3.org/2001/XMLSchema-instance\" xsi:schemaLocation=\"http://www.openarchives.org/OAI/2.0/oai-identifier http://www.openarchives.org/OAI/2.0/oai-identifier.xsd\"><scheme>oai</scheme><repositoryIdentifier>oaicat.oclc.org</repositoryIdentifier><delimiter>:</delimiter><sampleIdentifier>oai:kb.dk:Samlingsbilleder/36871</sampleIdentifier></oai-identifier></description>\r\n",
      "<description><toolkit xsi:schemaLocation=\"http://oai.dlib.vt.edu/OAI/metadata/toolkit http://alcme.oclc.org/oaicat/toolkit.xsd\" xmlns=\"http://oai.dlib.vt.edu/OAI/metadata/toolkit\"><title>OCLC's OAICat Repository Framework</title><author><name>Jeffrey A. Young</name><email>jyoung@oclc.org</email><institution>OCLC</institution></author><version>1.5.59</version><toolkitIcon>http://alcme.oclc.org/oaicat/oaicat_icon.gif</toolkitIcon><URL>http://www.oclc.org/research/software/oai/cat.shtm</URL></toolkit></description></Identify></OAI-PMH>"
     ]
    }
   ],
   "source": [
    "!curl -sL \"http://www.kb.dk/cop/oai/?verb=Identify\" > /tmp/Identify.tmp\n",
    "!cat /tmp/Identify.tmp"
   ]
  },
  {
   "cell_type": "markdown",
   "metadata": {},
   "source": [
    "We can use `xq` to make this easier to read:"
   ]
  },
  {
   "cell_type": "code",
   "execution_count": 2,
   "metadata": {},
   "outputs": [
    {
     "name": "stdout",
     "output_type": "stream",
     "text": [
      "{\r\n",
      "  \"OAI-PMH\": {\r\n",
      "    \"@xmlns\": \"http://www.openarchives.org/OAI/2.0/\",\r\n",
      "    \"@xmlns:xsi\": \"http://www.w3.org/2001/XMLSchema-instance\",\r\n",
      "    \"@xsi:schemaLocation\": \"http://www.openarchives.org/OAI/2.0/ http://www.openarchives.org/OAI/2.0/OAI-PMH.xsd\",\r\n",
      "    \"responseDate\": \"2020-04-02T08:35:27Z\",\r\n",
      "    \"request\": {\r\n",
      "      \"@verb\": \"Identify\",\r\n",
      "      \"#text\": \"http://www5.kb.dk/cop/oai/\"\r\n",
      "    },\r\n",
      "    \"Identify\": {\r\n",
      "      \"repositoryName\": \"COP2 Repository\",\r\n",
      "      \"baseURL\": \"http://www5.kb.dk/cop/oai/\",\r\n",
      "      \"protocolVersion\": \"2.0\",\r\n",
      "      \"adminEmail\": \"webmaster@kb.dk\",\r\n",
      "      \"earliestDatestamp\": \"2000-01-01\",\r\n",
      "      \"deletedRecord\": \"no\",\r\n",
      "      \"granularity\": \"YYYY-MM-DD\",\r\n",
      "      \"compression\": [\r\n",
      "        \"gzip\",\r\n"
     ]
    }
   ],
   "source": [
    "!cat /tmp/Identify.tmp | xq '.' | head -n 20"
   ]
  },
  {
   "cell_type": "markdown",
   "metadata": {},
   "source": [
    "## List sets"
   ]
  },
  {
   "cell_type": "markdown",
   "metadata": {},
   "source": [
    "Download data and show raw output:"
   ]
  },
  {
   "cell_type": "code",
   "execution_count": 3,
   "metadata": {},
   "outputs": [
    {
     "name": "stdout",
     "output_type": "stream",
     "text": [
      "<?xml version=\"1.0\" encoding=\"UTF-8\" ?>\r\n",
      "\r\n",
      "\r\n",
      "\r\n",
      "<OAI-PMH xmlns=\"http://www.openarchives.org/OAI/2.0/\"\r\n",
      " xmlns:xsi=\"http://www.w3.org/2001/XMLSchema-instance\"\r\n",
      " xsi:schemaLocation=\"http://www.openarchives.org/OAI/2.0/\r\n",
      " http://www.openarchives.org/OAI/2.0/OAI-PMH.xsd\">\r\n",
      "<responseDate>2020-04-02T08:35:27Z</responseDate>\r\n",
      "<request verb=\"ListSets\">http://oai.kb.dk/oai/provider</request>\r\n",
      "\r\n",
      "<ListSets>\r\n",
      "\t\r\n",
      "\t\t<set> \r\n",
      "\t\t\t\r\n",
      "\t\t\t<!-- This set contains 913 records -->\r\n",
      "\t\t\t\r\n",
      "\t\t\t<setSpec>kb:boeger:ww1</setSpec>\t\r\n",
      "\t\t\t<setName>Aleph Books WW1</setName>\r\n",
      "\t\t\t<setDescription>\r\n"
     ]
    }
   ],
   "source": [
    "!curl -sL \"http://oai.kb.dk/oai/provider?verb=ListSets\" > /tmp/ListSets.tmp\n",
    "!head -n 20 /tmp/ListSets.tmp"
   ]
  },
  {
   "cell_type": "markdown",
   "metadata": {},
   "source": [
    "Use `xq` to filter the set-names, and display the first few:"
   ]
  },
  {
   "cell_type": "code",
   "execution_count": 4,
   "metadata": {},
   "outputs": [
    {
     "name": "stdout",
     "output_type": "stream",
     "text": [
      "First 5 set names: ['Aleph Books WW1', 'Daells Varehus', 'David Simonsens Arkiv', 'David Simonsens Haandskrifter', 'Gieddes samling']\n",
      "Total set names:  39\n"
     ]
    }
   ],
   "source": [
    "set_names = !cat /tmp/ListSets.tmp | xq -r '.\"OAI-PMH\" | .ListSets | .set[] | .setName'\n",
    "print('First 5 set names:', set_names[:5])\n",
    "print('Total set names: ', len(set_names))"
   ]
  },
  {
   "cell_type": "code",
   "execution_count": 5,
   "metadata": {},
   "outputs": [
    {
     "name": "stdout",
     "output_type": "stream",
     "text": [
      "First 5 set specs: ['kb:boeger:ww1', 'kb.daellsvarehus', 'kb.dsa', 'kb.dsh', 'kb.gie']\n"
     ]
    }
   ],
   "source": [
    "set_specs = !cat /tmp/ListSets.tmp | xq -r '.\"OAI-PMH\" | .ListSets | .set[] | .setSpec'\n",
    "print('First 5 set specs:', set_specs[:5])"
   ]
  },
  {
   "cell_type": "markdown",
   "metadata": {},
   "source": [
    "## List records"
   ]
  },
  {
   "cell_type": "markdown",
   "metadata": {},
   "source": [
    "Note that the above set-specs appear to be incomplete. Functional versions of some set-specs are listed [here](https://github.com/Det-Kongelige-Bibliotek/access-digital-objects/blob/master/oai-pmh.md). For example, we can copy-paste this set-spec for the Billeder edition:"
   ]
  },
  {
   "cell_type": "code",
   "execution_count": 6,
   "metadata": {},
   "outputs": [],
   "source": [
    "set_name = \"oai:kb.dk:images:billed:2010:okt:billeder\""
   ]
  },
  {
   "cell_type": "markdown",
   "metadata": {},
   "source": [
    "We can now pull metadata on the first 1000 records in that edition:"
   ]
  },
  {
   "cell_type": "code",
   "execution_count": 7,
   "metadata": {},
   "outputs": [],
   "source": [
    "set_url = f\"http://www.kb.dk/cop/oai/?verb=ListRecords&set={set_name}&metadataPrefix=mods\"\n",
    "!curl -sL \"$set_url\" > /tmp/billeder.tmp"
   ]
  },
  {
   "cell_type": "markdown",
   "metadata": {},
   "source": [
    "Inspecting the last entry:"
   ]
  },
  {
   "cell_type": "code",
   "execution_count": 8,
   "metadata": {},
   "outputs": [
    {
     "name": "stdout",
     "output_type": "stream",
     "text": [
      "          \"header\": {\r\n",
      "            \"identifier\": \"oai:kb.dk:images:billed:2010:okt:billeder:object367448\",\r\n",
      "            \"datestamp\": \"2018-08-29T16:10:37Z\",\r\n",
      "            \"setSpec\": \"oai:kb.dk:images:billed:2010:okt:billeder\"\r\n",
      "          },\r\n",
      "          \"metadata\": {\r\n",
      "            \"md:mods\": {\r\n",
      "              \"@xmlns:md\": \"http://www.loc.gov/mods/v3\",\r\n",
      "              \"@xmlns:xlink\": \"http://www.w3.org/1999/xlink\",\r\n",
      "              \"@xmlns:xsi\": \"http://www.w3.org/2001/XMLSchema-instance\",\r\n",
      "              \"@xsi:schemaLocation\": \"http://www.loc.gov/mods/v3 http://www.loc.gov/standards/mods/v3/mods-3-3.xsd\",\r\n",
      "              \"md:identifier\": [\r\n",
      "                {\r\n",
      "                  \"@type\": \"uri\",\r\n",
      "                  \"#text\": \"http://www.kb.dk/images/billed/2010/okt/billeder/object367448/da/\"\r\n",
      "                },\r\n",
      "                {\r\n",
      "                  \"@xmlns:java\": \"http://xml.apache.org/xalan/java\",\r\n",
      "                  \"@xmlns:mix\": \"http://www.loc.gov/mix/v10\",\r\n",
      "                  \"@xmlns:t\": \"http://www.tei-c.org/ns/1.0\",\r\n"
     ]
    }
   ],
   "source": [
    "!cat /tmp/billeder.tmp | xq '.' | tail -n 204 > /tmp/entry.tmp\n",
    "!head -n 20 /tmp/entry.tmp"
   ]
  },
  {
   "cell_type": "markdown",
   "metadata": {},
   "source": [
    "However, it is unclear whether page-counts are actually provided in this manner."
   ]
  },
  {
   "cell_type": "markdown",
   "metadata": {},
   "source": [
    "## Pull image"
   ]
  },
  {
   "cell_type": "markdown",
   "metadata": {},
   "source": [
    "We can harvest til image URL of the last entry like this:"
   ]
  },
  {
   "cell_type": "code",
   "execution_count": 9,
   "metadata": {},
   "outputs": [
    {
     "name": "stdout",
     "output_type": "stream",
     "text": [
      "http://kb-images.kb.dk/DAMJP2/online_master_arkiv_3/non-archival/Images/BLADTE/erik_thorsen/erik_thorsen_kasse1/db_erik_thorsen_00027/full/full/0/native.jpg\n"
     ]
    }
   ],
   "source": [
    "raw_image_url_line = !cat /tmp/entry.tmp | grep .jpg | head -n 1\n",
    "image_url = raw_image_url_line[0].split('\"')[-2]\n",
    "print(image_url)"
   ]
  },
  {
   "cell_type": "markdown",
   "metadata": {},
   "source": [
    "... and display it like this:"
   ]
  },
  {
   "cell_type": "code",
   "execution_count": 10,
   "metadata": {},
   "outputs": [
    {
     "data": {
      "text/html": [
       "<img src=\"http://kb-images.kb.dk/DAMJP2/online_master_arkiv_3/non-archival/Images/BLADTE/erik_thorsen/erik_thorsen_kasse1/db_erik_thorsen_00027/full/full/0/native.jpg\"/>"
      ],
      "text/plain": [
       "<IPython.core.display.Image object>"
      ]
     },
     "execution_count": 10,
     "metadata": {},
     "output_type": "execute_result"
    }
   ],
   "source": [
    "from IPython.display import Image\n",
    "from IPython.core.display import HTML \n",
    "Image(url=f\"{image_url}\")"
   ]
  },
  {
   "cell_type": "code",
   "execution_count": null,
   "metadata": {},
   "outputs": [],
   "source": []
  }
 ],
 "metadata": {
  "kernelspec": {
   "display_name": "Python 3",
   "language": "python",
   "name": "python3"
  },
  "language_info": {
   "codemirror_mode": {
    "name": "ipython",
    "version": 3
   },
   "file_extension": ".py",
   "mimetype": "text/x-python",
   "name": "python",
   "nbconvert_exporter": "python",
   "pygments_lexer": "ipython3",
   "version": "3.6.9"
  },
  "toc": {
   "base_numbering": 1,
   "nav_menu": {},
   "number_sections": true,
   "sideBar": true,
   "skip_h1_title": false,
   "title_cell": "Table of Contents",
   "title_sidebar": "Contents",
   "toc_cell": false,
   "toc_position": {},
   "toc_section_display": true,
   "toc_window_display": false
  }
 },
 "nbformat": 4,
 "nbformat_minor": 2
}
